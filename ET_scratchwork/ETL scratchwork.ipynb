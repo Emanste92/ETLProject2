{
 "cells": [
  {
   "cell_type": "code",
   "execution_count": null,
   "metadata": {},
   "outputs": [],
   "source": [
    "# importing packages\n",
    "import pandas as pd\n",
    "from sqlalchemy import create_engine\n",
    "from ET_mysql_key.py import ET_key"
   ]
  },
  {
   "cell_type": "code",
   "execution_count": null,
   "metadata": {},
   "outputs": [],
   "source": [
    "# setting up csv variables\n",
    "WSJ_salaries_college_file = \"../Data_Files/college_salaries/salaries-by-college-type.csv\"\n",
    "WSJ_salaries_region_file = \"../Data_Files/college_salaries/salaries-by-region.csv\"\n",
    "CC_institution_details_file = \"../Data_Files/college_completion/cc_institution_details.csv\"\n",
    "CC_institution_grads_file = \"../Data_Files/college_completion/cc_institution_grads.csv\"\n",
    "# CC_state_sector_details_file = \"../Data_Files/college_completion/cc_state_sector_details.csv\"\n",
    "# CC_state_sector_grads_file = \"../Data_Files/college_completion/cc_state_sector_grads.csv\"\n",
    "\n",
    "# testing \n",
    "PEPS_closed_schools_file = \"/Data_Files/closedschoolsearch.csv\""
   ]
  },
  {
   "cell_type": "code",
   "execution_count": null,
   "metadata": {},
   "outputs": [],
   "source": [
    "# extracting csvs into dataframes\n",
    "# WSJ_college_raw_df = pd.read_csv(WSJ_salaries_college_file)\n",
    "# WSJ_college_raw_df.head()\n",
    "# remove columns as needed and set as the real df"
   ]
  },
  {
   "cell_type": "code",
   "execution_count": null,
   "metadata": {},
   "outputs": [],
   "source": []
  },
  {
   "cell_type": "code",
   "execution_count": null,
   "metadata": {},
   "outputs": [],
   "source": [
    "# creating database connection\n",
    "\n",
    "connection_string = \"root:<insert password>@localhost/customer_db\"\n",
    "engine = create_engine(f'mysql://{connection_string}')"
   ]
  },
  {
   "cell_type": "code",
   "execution_count": null,
   "metadata": {},
   "outputs": [],
   "source": []
  },
  {
   "cell_type": "code",
   "execution_count": null,
   "metadata": {},
   "outputs": [],
   "source": []
  },
  {
   "cell_type": "code",
   "execution_count": null,
   "metadata": {},
   "outputs": [],
   "source": []
  }
 ],
 "metadata": {
  "kernelspec": {
   "display_name": "Python 3",
   "language": "python",
   "name": "python3"
  },
  "language_info": {
   "codemirror_mode": {
    "name": "ipython",
    "version": 3
   },
   "file_extension": ".py",
   "mimetype": "text/x-python",
   "name": "python",
   "nbconvert_exporter": "python",
   "pygments_lexer": "ipython3",
   "version": "3.7.1"
  }
 },
 "nbformat": 4,
 "nbformat_minor": 2
}
