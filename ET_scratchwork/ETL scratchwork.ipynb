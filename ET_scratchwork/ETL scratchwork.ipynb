{
 "cells": [
  {
   "cell_type": "markdown",
   "metadata": {},
   "source": [
    "## Importing packages and csvs"
   ]
  },
  {
   "cell_type": "code",
   "execution_count": 1,
   "metadata": {},
   "outputs": [],
   "source": [
    "# importing packages\n",
    "import pandas as pd\n",
    "from sqlalchemy import create_engine\n",
    "from ET_mysql_key import ET_key\n",
    "from IPython.core.interactiveshell import InteractiveShell\n",
    "InteractiveShell.ast_node_interactivity = \"all\""
   ]
  },
  {
   "cell_type": "code",
   "execution_count": 2,
   "metadata": {},
   "outputs": [],
   "source": [
    "# setting up csv variables\n",
    "WSJ_salaries_college_file = \"../Data_Files/college_salaries/salaries-by-college-type.csv\" # has median salary data \n",
    "CC_institution_details_file = \"../Data_Files/college_completion/cc_institution_details.csv\" # has all data incl. school name\n",
    "CC_institution_grads_file = \"../Data_Files/college_completion/cc_institution_grads.csv\" # has gender data\n",
    "# WSJ_salaries_region_file = \"../Data_Files/college_salaries/salaries-by-region.csv\"\n",
    "# CC_state_sector_details_file = \"../Data_Files/college_completion/cc_state_sector_details.csv\"\n",
    "# CC_state_sector_grads_file = \"../Data_Files/college_completion/cc_state_sector_grads.csv\"\n",
    "\n",
    "# testing \n",
    "# PEPS_closed_schools_file = \"/Data_Files/closedschoolsearch.csv\""
   ]
  },
  {
   "cell_type": "markdown",
   "metadata": {},
   "source": [
    "## Extraction"
   ]
  },
  {
   "cell_type": "code",
   "execution_count": 3,
   "metadata": {},
   "outputs": [],
   "source": [
    "# extracting csvs into dataframes\n",
    "WSJ_college_raw_df = pd.read_csv(WSJ_salaries_college_file)\n",
    "# WSJ_college_raw_df.head()"
   ]
  },
  {
   "cell_type": "code",
   "execution_count": 5,
   "metadata": {},
   "outputs": [],
   "source": [
    "CC_institution_details_raw_df = pd.read_csv(CC_institution_details_file)\n",
    "# CC_institution_details_raw_df.head(2)\n",
    "# CC_institution_details_raw_df.shape"
   ]
  },
  {
   "cell_type": "code",
   "execution_count": 6,
   "metadata": {
    "scrolled": true
   },
   "outputs": [],
   "source": [
    "CC_institution_grads_raw_df = pd.read_csv(CC_institution_grads_file)\n",
    "# CC_institution_grads_raw_df.head()"
   ]
  },
  {
   "cell_type": "markdown",
   "metadata": {},
   "source": [
    "## Cleaning"
   ]
  },
  {
   "cell_type": "code",
   "execution_count": 7,
   "metadata": {},
   "outputs": [
    {
     "data": {
      "text/plain": [
       "(269, 4)"
      ]
     },
     "execution_count": 7,
     "metadata": {},
     "output_type": "execute_result"
    },
    {
     "data": {
      "text/plain": [
       "(269, 4)"
      ]
     },
     "execution_count": 7,
     "metadata": {},
     "output_type": "execute_result"
    }
   ],
   "source": [
    "# remove columns as needed and set as the real df\n",
    "WSJ_college_cols = [\"School Name\", \"School Type\", \"Starting Median Salary\", \"Mid-Career Median Salary\"]\n",
    "WSJ_college_df = WSJ_college_raw_df[WSJ_college_cols].copy()\n",
    "WSJ_college_df.shape\n",
    "\n",
    "WSJ_college_Df = WSJ_college_df.dropna(how=\"any\")\n",
    "WSJ_college_Df.shape"
   ]
  },
  {
   "cell_type": "code",
   "execution_count": 8,
   "metadata": {},
   "outputs": [
    {
     "data": {
      "text/plain": [
       "(3795, 12)"
      ]
     },
     "execution_count": 8,
     "metadata": {},
     "output_type": "execute_result"
    },
    {
     "data": {
      "text/plain": [
       "(3594, 12)"
      ]
     },
     "execution_count": 8,
     "metadata": {},
     "output_type": "execute_result"
    }
   ],
   "source": [
    "# remove columns as needed and set as the real df\n",
    "CC_institution_details_cols = [\"unitid\", \"chronname\", \"state\", \"level\",\"control\",\"basic\",\n",
    "                               \"student_count\",\"aid_value\",\"grad_100_value\",\"grad_100_percentile\",\n",
    "                              \"grad_150_value\",\"grad_150_percentile\"]\n",
    "CC_institution_details_df = CC_institution_details_raw_df[CC_institution_details_cols].drop_duplicates().copy()\n",
    "CC_institution_details_df.shape\n",
    "\n",
    "CC_institution_details_Df = CC_institution_details_df.dropna(how=\"any\")\n",
    "CC_institution_details_Df.shape"
   ]
  },
  {
   "cell_type": "code",
   "execution_count": 9,
   "metadata": {},
   "outputs": [
    {
     "data": {
      "text/plain": [
       "(3795, 12)"
      ]
     },
     "execution_count": 9,
     "metadata": {},
     "output_type": "execute_result"
    },
    {
     "data": {
      "text/plain": [
       "(3594, 12)"
      ]
     },
     "execution_count": 9,
     "metadata": {},
     "output_type": "execute_result"
    }
   ],
   "source": [
    "# removing year column and dropping duplicates\n",
    "CC_institution_grads_cols = [\"unitid\", \"gender\", \"race\", \"cohort\"]\n",
    "CC_institution_grads_df = CC_institution_details_raw_df[CC_institution_details_cols].drop_duplicates().copy()\n",
    "CC_institution_grads_df.shape\n",
    "\n",
    "CC_institution_grads_Df = CC_institution_grads_df.dropna(how=\"any\")\n",
    "CC_institution_grads_Df.shape"
   ]
  },
  {
   "cell_type": "markdown",
   "metadata": {},
   "source": [
    "## Loading"
   ]
  },
  {
   "cell_type": "code",
   "execution_count": null,
   "metadata": {},
   "outputs": [],
   "source": [
    "# creating database connection\n",
    "connection_string = \"root:<insert password>@localhost/customer_db\"\n",
    "engine = create_engine(f'mysql://{connection_string}')"
   ]
  },
  {
   "cell_type": "code",
   "execution_count": null,
   "metadata": {},
   "outputs": [],
   "source": [
    "# confirming tables \n",
    "# engine.table_names()"
   ]
  },
  {
   "cell_type": "code",
   "execution_count": null,
   "metadata": {},
   "outputs": [],
   "source": [
    "# loading dataframes into database\n",
    "# premise_transformed.to_sql(name='premise', con=engine, if_exists='append', index=True)"
   ]
  },
  {
   "cell_type": "code",
   "execution_count": null,
   "metadata": {},
   "outputs": [],
   "source": []
  }
 ],
 "metadata": {
  "kernelspec": {
   "display_name": "Python 3",
   "language": "python",
   "name": "python3"
  },
  "language_info": {
   "codemirror_mode": {
    "name": "ipython",
    "version": 3
   },
   "file_extension": ".py",
   "mimetype": "text/x-python",
   "name": "python",
   "nbconvert_exporter": "python",
   "pygments_lexer": "ipython3",
   "version": "3.7.1"
  }
 },
 "nbformat": 4,
 "nbformat_minor": 2
}
